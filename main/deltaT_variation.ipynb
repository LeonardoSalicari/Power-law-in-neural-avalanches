{
 "cells": [
  {
   "cell_type": "code",
   "execution_count": 1,
   "metadata": {},
   "outputs": [],
   "source": [
    "import numpy as np\n",
    "import matplotlib.pyplot as plt\n",
    "%matplotlib inline"
   ]
  },
  {
   "cell_type": "code",
   "execution_count": 2,
   "metadata": {},
   "outputs": [],
   "source": [
    "def positive(x): \n",
    "    ''' returns the []_+ of an array or a list '''\n",
    "    for idx, elem in enumerate(x):\n",
    "        if elem <= 0: x[idx] = 0\n",
    "    return x\n",
    "\n",
    "def firingRate(dt,T=100):\n",
    "    '''Return an array of firing rate over time with timestep dt and for T seconds'''\n",
    "    T = T\n",
    "    n = int(T/dt) # total time steps\n",
    "\n",
    "    # Quantities for O-U precess\n",
    "    alpha = 1 # value from fig2 \n",
    "    sigma = 1 # value from fig2\n",
    "    rho = np.zeros(n)\n",
    "    # O-U\n",
    "    np.random.seed(1010) # for reproducible firing rates\n",
    "    for i in range(n - 1):\n",
    "        rho[i + 1] = rho[i] - dt*alpha*rho[i] + np.sqrt(dt)*sigma*np.random.randn() \n",
    "\n",
    "    return positive(rho) # set negative part to 0\n",
    "\n",
    "def spikeTrain(dt,N_neurons=1000): \n",
    "    '''Return an array with the sum of N_neurons spiking over time\n",
    "    see firingRate() for more details'''\n",
    "    N_neurons = N_neurons # number used in Touboul paper\n",
    "    rho = firingRate(dt)\n",
    "    max_rho = np.max(rho)\n",
    "    S_shape = np.zeros(len(rho)) # temporal profile of hte sum of all neurons' spikes\n",
    "\n",
    "    for neuron in range(N_neurons):\n",
    "    \n",
    "        # Algo 6 from Higham's paper\n",
    "        time = 0 # starting time for the homogeneous process [bins]\n",
    "        while time < len(rho):\n",
    "            u = np.random.random()\n",
    "            interspike_t = int( (- np.log(u)/max_rho)/dt )  # /dt to convert it in bins\n",
    "            time += interspike_t\n",
    "        \n",
    "            if time > len(rho)-1: break\n",
    "        \n",
    "            v = np.random.random()\n",
    "            if v <= rho[time]/max_rho :\n",
    "                S_shape[time] += 1\n",
    "    \n",
    "    return S_shape\n",
    "            \n",
    "\n",
    "def deltaT(dt):\n",
    "    '''Return the computed Delta t, a.k.a. mean time between '''\n",
    "    S_ = spikeTrain(dt)\n",
    "    where_spikes = np.where(S_ != 0)\n",
    "    interspike_time = (where_spikes - np.roll(where_spikes,1))\n",
    "    interspike_time = np.delete(interspike_time,0) # remouve the first element\n",
    "\n",
    "    mean_interspike_time = np.sum(interspike_time)/len(interspike_time)\n",
    "    \n",
    "    #mean_interspike_time = int(mean_interspike_time)\n",
    "    #print(\"Mean interspike time [dt units]:\", mean_interspike_time)\n",
    "    \n",
    "    return mean_interspike_time\n",
    "    "
   ]
  },
  {
   "cell_type": "code",
   "execution_count": 9,
   "metadata": {},
   "outputs": [],
   "source": [
    "dt = np.array([0.0003, 0.0005, 0.001, 0.003, 0.005, 0.01])\n",
    "Dt = np.array([int(deltaT(time)) for time in dt])"
   ]
  },
  {
   "cell_type": "code",
   "execution_count": 17,
   "metadata": {},
   "outputs": [
    {
     "data": {
      "image/png": "[encoded data removed]",
      "text/plain": [
       "<Figure size 432x288 with 1 Axes>"
      ]
     },
     "metadata": {
      "needs_background": "light"
     },
     "output_type": "display_data"
    }
   ],
   "source": [
    "plt.plot(dt,Dt,'o')\n",
    "plt.xscale('log')\n",
    "s = 14\n",
    "plt.xlabel('$dt$ [s]', fontsize=s)\n",
    "plt.ylabel('$\\Delta t$ [units of $dt$]', fontsize=s)\n",
    "plt.savefig('deltat_vs_dt', format='pdf')"
   ]
  }
 ],
 "metadata": {
  "kernelspec": {
   "display_name": "Python 3",
   "language": "python",
   "name": "python3"
  },
  "language_info": {
   "codemirror_mode": {
    "name": "ipython",
    "version": 3
   },
   "file_extension": ".py",
   "mimetype": "text/x-python",
   "name": "python",
   "nbconvert_exporter": "python",
   "pygments_lexer": "ipython3",
   "version": "3.8.1"
  }
 },
 "nbformat": 4,
 "nbformat_minor": 4
}
